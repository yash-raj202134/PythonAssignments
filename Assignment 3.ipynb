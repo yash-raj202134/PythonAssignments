{
 "cells": [
  {
   "cell_type": "markdown",
   "id": "30fc5fb8",
   "metadata": {},
   "source": [
    "# Assignment 3"
   ]
  },
  {
   "cell_type": "markdown",
   "id": "c6880aa5",
   "metadata": {},
   "source": [
    "Problem Statement: \n",
    "\n",
    "Design a ‘book’ class with title, author, publisher, price, and author’s royalty as instance variables. Provide getter and setter properties for all variables. Also, define a method royalty() to calculate royalty amount author can expect to receive the following royalties:10%  of the retail price on the first 500 copies; 12.5% for the next 1,000 copies sold, then 15% for all further copies sold. \n",
    "\n",
    "Then design a new ‘ebook’ class inherited from the ‘book’ class. Add ebook format (EPUB, PDF,  MOBI, etc) as an additional instance variable in the inherited class.                                                                                       Override royalty() method to deduct GST @12% on ebooks."
   ]
  },
  {
   "cell_type": "code",
   "execution_count": 4,
   "id": "6484def3",
   "metadata": {},
   "outputs": [],
   "source": [
    "class book:\n",
    "    \n",
    "    def __init__(self,title,author,publisher,price,auth_royalty):\n",
    "        self.title=title\n",
    "        self.author=author\n",
    "        self.publisher=publisher\n",
    "        self.price=price\n",
    "        self.auth_royalty=auth_royalty\n",
    "        \n",
    "    def getTitle(self):\n",
    "        return self.title\n",
    "    def getAuthor(self):\n",
    "        return self.author\n",
    "    def getPublisher(self):\n",
    "        return self.publisher\n",
    "    def getPrice(self):\n",
    "        return self.price\n",
    "    def getAuthors_royalty(self):\n",
    "        return self.auth_royalty\n",
    "    \n",
    "    \n",
    "    def setTitle(self,title):\n",
    "        self.title=title\n",
    "        return\n",
    "    def setAuthor(self,author):\n",
    "        self.author=author\n",
    "        return\n",
    "    def setPublisher(self,publisher):\n",
    "        self.publisher=publisher\n",
    "        return\n",
    "    def setPrice(self,price):\n",
    "        self.price=price\n",
    "        return\n",
    "    def setAuthors_royalty(self,auth_royalty):\n",
    "        self.auth_royalty=auth_royalty\n",
    "        return\n",
    "    \n",
    "    \n",
    "    def royalty(self,copies):\n",
    "        if copies<=500:\n",
    "            return (0.1*copies*self.price)\n",
    "        elif copies>500 and copies<=1500:\n",
    "            return (0.1 * self.price * 500 + 0.125 * self.price * (copies - 500))\n",
    "        elif copies>1500:\n",
    "            return (0.1 * self.price * 500 + 0.125 * self.price * 1000 + 0.15 * self.price * (copies - 1500))\n",
    "        \n",
    "    "
   ]
  },
  {
   "cell_type": "code",
   "execution_count": 22,
   "id": "02edd0f7",
   "metadata": {},
   "outputs": [],
   "source": [
    "class ebook(book):\n",
    "    \n",
    "    def __init__(self,title, author, publisher, price, royalty,formt):\n",
    "        super().__init__(title, author, publisher, price, royalty)\n",
    "        self.formt=formt\n",
    "        \n",
    "    def getFormat(self):\n",
    "        return self.formt\n",
    "        \n",
    "    def setFormat(self,f):\n",
    "        self.formt=f\n",
    "        return\n",
    "    \n",
    "    def royalty(self,copies):\n",
    "        return (0.88*super().royalty(copies))\n",
    "        \n",
    "    "
   ]
  },
  {
   "cell_type": "code",
   "execution_count": 23,
   "id": "49a61fca",
   "metadata": {},
   "outputs": [
    {
     "data": {
      "text/plain": [
       "60230.0"
      ]
     },
     "execution_count": 23,
     "metadata": {},
     "output_type": "execute_result"
    }
   ],
   "source": [
    "b1=book(\"Rich dad and poor dad\",\"Robert Toru Kiyosaki\",\"Warner Books\",317,1000)\n",
    "b1.setTitle(\"Rich dad and poor dad\")\n",
    "b1.setAuthor(\"Robert Toru Kiyosaki\")\n",
    "b1.setPublisher(\"Warner Books\")\n",
    "b1.setPrice(317)\n",
    "b1.setAuthors_royalty(1000)\n",
    "\n",
    "b1.royalty(1600)"
   ]
  },
  {
   "cell_type": "code",
   "execution_count": 25,
   "id": "0de155f8",
   "metadata": {},
   "outputs": [
    {
     "data": {
      "text/plain": [
       "63806.6"
      ]
     },
     "execution_count": 25,
     "metadata": {},
     "output_type": "execute_result"
    }
   ],
   "source": [
    "ebook1=ebook(\"Rich dad and poor dad\",\"Robert Toru Kiyosaki\",\"Warner Books\",50,100,\"MOBI\")\n",
    "ebook1.getPublisher()\n",
    "ebook1.setFormat(\"PDF\")\n",
    "ebook1.royalty(10001)"
   ]
  }
 ],
 "metadata": {
  "kernelspec": {
   "display_name": "Python 3 (ipykernel)",
   "language": "python",
   "name": "python3"
  },
  "language_info": {
   "codemirror_mode": {
    "name": "ipython",
    "version": 3
   },
   "file_extension": ".py",
   "mimetype": "text/x-python",
   "name": "python",
   "nbconvert_exporter": "python",
   "pygments_lexer": "ipython3",
   "version": "3.10.2"
  }
 },
 "nbformat": 4,
 "nbformat_minor": 5
}
