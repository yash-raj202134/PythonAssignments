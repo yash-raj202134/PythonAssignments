{
 "cells": [
  {
   "cell_type": "markdown",
   "id": "0fe714be",
   "metadata": {},
   "source": [
    "# Assignment 1\n"
   ]
  },
  {
   "cell_type": "markdown",
   "id": "b3e969c7",
   "metadata": {},
   "source": [
    "You are required to design the data structure to display the individual player stats for cricket players. \n",
    "A player may have represented more than one team and may have played in more than one format such as Test, \n",
    "ODI, and T20.\n",
    "\n",
    "#Problem Statement: \n",
    "Create a list of different data fields and use appropriate Python data types to represent each of them. \n",
    "\n",
    "code:"
   ]
  },
  {
   "cell_type": "code",
   "execution_count": 1,
   "id": "deec7f2a",
   "metadata": {},
   "outputs": [],
   "source": [
    "career_stats={}   #an empty dictionary\n"
   ]
  },
  {
   "cell_type": "code",
   "execution_count": 2,
   "id": "985a6a47",
   "metadata": {},
   "outputs": [],
   "source": [
    "def player_input(player_name,player_style,matches_played,runs_scored,ball_faced,six,four,strike_rate,fifty,century,wickets,balls,runs_given,economy):\n",
    "    details=[]   \n",
    "    details.append(player_style)\n",
    "    details.append(int(matches_played))\n",
    "    details.append(int(runs_scored))\n",
    "    details.append(int(ball_faced))\n",
    "    details.append(int(six))\n",
    "    details.append(int(four))\n",
    "    details.append(float(strike_rate))\n",
    "    details.append(int(fifty))\n",
    "    details.append(int(century))\n",
    "    \n",
    "    details.append(int(wickets))\n",
    "    details.append(int(balls))\n",
    "    details.append(int(runs_given))\n",
    "    details.append(float(economy))\n",
    "\n",
    "    career_stats[player_name] = details  # adding items (keys and values) to our dictionary \"career_stats\"\n",
    "    print(\"\\tPlayer Stats saved ! : [Data input done]\\n\")"
   ]
  },
  {
   "cell_type": "code",
   "execution_count": 3,
   "id": "34d5fbc5",
   "metadata": {},
   "outputs": [
    {
     "name": "stdout",
     "output_type": "stream",
     "text": [
      "\tPlayer Stats saved ! : [Data input done]\n",
      "\n"
     ]
    }
   ],
   "source": [
    "player_input('Virat Kohli','Right-handed batsman & Right arm quick bowler',260,12311,13249,125,1153,92.9,64,43,4,641,665,6.22)\n"
   ]
  },
  {
   "cell_type": "code",
   "execution_count": 4,
   "id": "14cbe3d3",
   "metadata": {},
   "outputs": [
    {
     "name": "stdout",
     "output_type": "stream",
     "text": [
      "\tPlayer Stats saved ! : [Data input done]\n",
      "\n"
     ]
    }
   ],
   "source": [
    "player_input('Rohit Sharma','Right-handed batsman & Right arm off-spinner',230,9283,10428,245,845,89.0,44,29,8,593,515,5.21)\n"
   ]
  },
  {
   "cell_type": "code",
   "execution_count": 5,
   "id": "439ef85f",
   "metadata": {},
   "outputs": [
    {
     "name": "stdout",
     "output_type": "stream",
     "text": [
      "\tPlayer Stats saved ! : [Data input done]\n",
      "\n"
     ]
    }
   ],
   "source": [
    "player_input('Ravindra Jadeja','Left-handed batsman & Slow left arm',168,2411,2769,178,49,87.1,13,0,188,8557,7024,4.92)"
   ]
  },
  {
   "cell_type": "code",
   "execution_count": 6,
   "id": "c79ba256",
   "metadata": {},
   "outputs": [
    {
     "data": {
      "text/html": [
       "<div>\n",
       "<style scoped>\n",
       "    .dataframe tbody tr th:only-of-type {\n",
       "        vertical-align: middle;\n",
       "    }\n",
       "\n",
       "    .dataframe tbody tr th {\n",
       "        vertical-align: top;\n",
       "    }\n",
       "\n",
       "    .dataframe thead th {\n",
       "        text-align: right;\n",
       "    }\n",
       "</style>\n",
       "<table border=\"1\" class=\"dataframe\">\n",
       "  <thead>\n",
       "    <tr style=\"text-align: right;\">\n",
       "      <th></th>\n",
       "      <th>Batting &amp; Bowling style</th>\n",
       "      <th>Matches played</th>\n",
       "      <th>Runs Scored</th>\n",
       "      <th>Balls faced</th>\n",
       "      <th>6s</th>\n",
       "      <th>4s</th>\n",
       "      <th>Strike Rate</th>\n",
       "      <th>50s</th>\n",
       "      <th>100s</th>\n",
       "      <th>Wickets Taken</th>\n",
       "      <th>Balls Bowled</th>\n",
       "      <th>Runs Given</th>\n",
       "      <th>Econ</th>\n",
       "    </tr>\n",
       "  </thead>\n",
       "  <tbody>\n",
       "    <tr>\n",
       "      <th>Virat Kohli</th>\n",
       "      <td>Right-handed batsman &amp; Right arm quick bowler</td>\n",
       "      <td>260</td>\n",
       "      <td>12311</td>\n",
       "      <td>13249</td>\n",
       "      <td>125</td>\n",
       "      <td>1153</td>\n",
       "      <td>92.9</td>\n",
       "      <td>64</td>\n",
       "      <td>43</td>\n",
       "      <td>4</td>\n",
       "      <td>641</td>\n",
       "      <td>665</td>\n",
       "      <td>6.22</td>\n",
       "    </tr>\n",
       "    <tr>\n",
       "      <th>Rohit Sharma</th>\n",
       "      <td>Right-handed batsman &amp; Right arm off-spinner</td>\n",
       "      <td>230</td>\n",
       "      <td>9283</td>\n",
       "      <td>10428</td>\n",
       "      <td>245</td>\n",
       "      <td>845</td>\n",
       "      <td>89.0</td>\n",
       "      <td>44</td>\n",
       "      <td>29</td>\n",
       "      <td>8</td>\n",
       "      <td>593</td>\n",
       "      <td>515</td>\n",
       "      <td>5.21</td>\n",
       "    </tr>\n",
       "    <tr>\n",
       "      <th>Ravindra Jadeja</th>\n",
       "      <td>Left-handed batsman &amp; Slow left arm</td>\n",
       "      <td>168</td>\n",
       "      <td>2411</td>\n",
       "      <td>2769</td>\n",
       "      <td>178</td>\n",
       "      <td>49</td>\n",
       "      <td>87.1</td>\n",
       "      <td>13</td>\n",
       "      <td>0</td>\n",
       "      <td>188</td>\n",
       "      <td>8557</td>\n",
       "      <td>7024</td>\n",
       "      <td>4.92</td>\n",
       "    </tr>\n",
       "  </tbody>\n",
       "</table>\n",
       "</div>"
      ],
      "text/plain": [
       "                                       Batting & Bowling style Matches played  \\\n",
       "Virat Kohli      Right-handed batsman & Right arm quick bowler            260   \n",
       "Rohit Sharma      Right-handed batsman & Right arm off-spinner            230   \n",
       "Ravindra Jadeja            Left-handed batsman & Slow left arm            168   \n",
       "\n",
       "                Runs Scored Balls faced   6s    4s Strike Rate 50s 100s  \\\n",
       "Virat Kohli           12311       13249  125  1153        92.9  64   43   \n",
       "Rohit Sharma           9283       10428  245   845        89.0  44   29   \n",
       "Ravindra Jadeja        2411        2769  178    49        87.1  13    0   \n",
       "\n",
       "                Wickets Taken Balls Bowled Runs Given  Econ  \n",
       "Virat Kohli                 4          641        665  6.22  \n",
       "Rohit Sharma                8          593        515  5.21  \n",
       "Ravindra Jadeja           188         8557       7024  4.92  "
      ]
     },
     "execution_count": 6,
     "metadata": {},
     "output_type": "execute_result"
    }
   ],
   "source": [
    "import pandas as pd\n",
    "table = pd.DataFrame(career_stats, index = ['Batting & Bowling style','Matches played','Runs Scored','Balls faced','6s','4s','Strike Rate','50s','100s','Wickets Taken','Balls Bowled','Runs Given','Econ'])\n",
    "table1 = table.transpose()\n",
    "table1"
   ]
  }
 ],
 "metadata": {
  "kernelspec": {
   "display_name": "Python 3 (ipykernel)",
   "language": "python",
   "name": "python3"
  },
  "language_info": {
   "codemirror_mode": {
    "name": "ipython",
    "version": 3
   },
   "file_extension": ".py",
   "mimetype": "text/x-python",
   "name": "python",
   "nbconvert_exporter": "python",
   "pygments_lexer": "ipython3",
   "version": "3.10.2"
  },
  "vscode": {
   "interpreter": {
    "hash": "26de051ba29f2982a8de78e945f0abaf191376122a1563185a90213a26c5da77"
   }
  }
 },
 "nbformat": 4,
 "nbformat_minor": 5
}
